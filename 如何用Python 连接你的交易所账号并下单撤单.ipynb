{
 "cells": [
  {
   "cell_type": "markdown",
   "id": "e0ac3f8e",
   "metadata": {},
   "source": [
    "# 如何用Python 连接你的交易所账号并下单撤单"
   ]
  },
  {
   "cell_type": "code",
   "execution_count": null,
   "id": "f4a3de1a",
   "metadata": {},
   "outputs": [],
   "source": [
    "# setting up\n",
    "import time\n",
    "import ccxt\n",
    "import dateutil\n",
    "import pandas as pd\n",
    "from datetime import datetime"
   ]
  },
  {
   "cell_type": "markdown",
   "id": "071f3326",
   "metadata": {},
   "source": [
    "## 通过API连接你的账户\n",
    "\n",
    "* 千万不要泄漏你的API\n",
    "\n",
    "* 设置的时候请不要勾选“可以提现”"
   ]
  },
  {
   "cell_type": "code",
   "execution_count": null,
   "id": "9e631032",
   "metadata": {},
   "outputs": [],
   "source": [
    "bn_apikey = 'your_apikey'\n",
    "bn_secretkey = 'your_secretkey'\n",
    "exchange = ccxt.binance({\n",
    "    'enableRateLimit': True,\n",
    "    'options': {\n",
    "        'defaultType': 'spot',  # or 'future'\n",
    "    }})\n",
    "exchange.apiKey = bn_apikey\n",
    "exchange.secret = bn_secretkey"
   ]
  },
  {
   "cell_type": "markdown",
   "id": "dab35739",
   "metadata": {},
   "source": [
    "## 读取账户里面 USDT的余额"
   ]
  },
  {
   "cell_type": "code",
   "execution_count": null,
   "id": "87d7faf0",
   "metadata": {},
   "outputs": [],
   "source": [
    "all_balance = pd.DataFrame(exchange.fetchBalance())\n",
    "all_balance['total']['USDT']"
   ]
  },
  {
   "cell_type": "markdown",
   "id": "274563d0",
   "metadata": {},
   "source": [
    "## 设置交易标的及其有关参数\n",
    "\n",
    "* 标的\n",
    "* 数量\n",
    "* 限价单价格\n",
    "* 也可以下市价单 createMarketBuyOrder()"
   ]
  },
  {
   "cell_type": "code",
   "execution_count": null,
   "id": "cd4c4480",
   "metadata": {},
   "outputs": [],
   "source": [
    "symbol=\"DOGE/USDT\"\n",
    "amount=1000\n",
    "price = 0.05\n",
    "buy_order = exchange.createLimitBuyOrder(symbol, amount, price)"
   ]
  },
  {
   "cell_type": "markdown",
   "id": "71ef66e7",
   "metadata": {},
   "source": [
    "## 取消订单"
   ]
  },
  {
   "cell_type": "code",
   "execution_count": null,
   "id": "7174331e",
   "metadata": {},
   "outputs": [],
   "source": [
    "exchange.cancelAllOrders(symbol)"
   ]
  },
  {
   "cell_type": "markdown",
   "id": "1b5808d3",
   "metadata": {},
   "source": [
    "## 无限循环，下单，撤单，下单撤单 \n",
    "\n",
    "* 仅供娱乐\n",
    "\n",
    "* 小心被封ip"
   ]
  },
  {
   "cell_type": "code",
   "execution_count": null,
   "id": "b2fdcdc4",
   "metadata": {},
   "outputs": [],
   "source": [
    "while True:\n",
    "    buy_order = exchange.createLimitBuyOrder(symbol, amount, price)\n",
    "    exchange.cancelAllOrders(symbol)"
   ]
  },
  {
   "cell_type": "code",
   "execution_count": null,
   "id": "e529fea4",
   "metadata": {},
   "outputs": [],
   "source": []
  },
  {
   "cell_type": "code",
   "execution_count": null,
   "id": "d1a12407",
   "metadata": {},
   "outputs": [],
   "source": []
  }
 ],
 "metadata": {
  "kernelspec": {
   "display_name": "venv_ytb",
   "language": "python",
   "name": "venv_ytb"
  },
  "language_info": {
   "codemirror_mode": {
    "name": "ipython",
    "version": 3
   },
   "file_extension": ".py",
   "mimetype": "text/x-python",
   "name": "python",
   "nbconvert_exporter": "python",
   "pygments_lexer": "ipython3",
   "version": "3.10.1"
  }
 },
 "nbformat": 4,
 "nbformat_minor": 5
}
