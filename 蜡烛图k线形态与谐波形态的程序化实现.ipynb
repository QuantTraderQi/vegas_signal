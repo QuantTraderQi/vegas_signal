{
 "cells": [
  {
   "cell_type": "markdown",
   "id": "c2748fc1",
   "metadata": {},
   "source": [
    "# 日本蜡烛图\n",
    "## pinbar 针线，锤头线\n",
    "### 看涨\n",
    "![](https://cdn.discordapp.com/attachments/876453115371614238/1089296024994062408/image.png)\n",
    "### 看跌\n",
    "![](https://cdn.discordapp.com/attachments/876453115371614238/1089295486135054356/image.png)"
   ]
  },
  {
   "cell_type": "code",
   "execution_count": null,
   "id": "ff5c2274",
   "metadata": {},
   "outputs": [],
   "source": [
    "# 抓取数据\n",
    "import warnings\n",
    "warnings.filterwarnings('ignore')\n",
    "data = collect_data(timeframe='1d', limit=500)\n",
    "df = data[data['Symbol'] == \"BTC/USDT\"]"
   ]
  },
  {
   "cell_type": "code",
   "execution_count": null,
   "id": "7bfd4ed8",
   "metadata": {},
   "outputs": [],
   "source": [
    "df.shape"
   ]
  },
  {
   "cell_type": "code",
   "execution_count": null,
   "id": "7d7691c8",
   "metadata": {},
   "outputs": [],
   "source": [
    "range(2, df.shape[0])"
   ]
  },
  {
   "cell_type": "code",
   "execution_count": null,
   "id": "5cb00f36",
   "metadata": {},
   "outputs": [],
   "source": [
    "for i in range(2, df.shape[0]):\n",
    "    current = df.iloc[i, :]\n",
    "    prev = df.iloc[i-1, :]\n",
    "    prev_2 = df.iloc[i-2, :]\n",
    "    realbody = abs(current['Open'] - current['Close'])\n",
    "    candle_range = current['High'] - current['Low']\n",
    "    idx = df.index[i]\n",
    "    # Bullish pinbar\n",
    "    df.loc[idx, 'Bullish pinbar'] = realbody <= candle_range/3 and  min(current['Open'], current['Close']) > (current['High'] + current['Low'])/2 and current['Low'] < prev['Low']\n",
    "    # Bearish pinbar\n",
    "    df.loc[idx, 'Bearish pinbar'] = realbody <= candle_range/3 and max(current['Open'], current['Close']) < (current['High'] + current['Low'])/2 and current['High'] > prev['High']"
   ]
  },
  {
   "cell_type": "code",
   "execution_count": null,
   "id": "0d9929be",
   "metadata": {},
   "outputs": [],
   "source": [
    "df[df['Bullish pinbar'] == True]"
   ]
  },
  {
   "cell_type": "markdown",
   "id": "71a45976",
   "metadata": {},
   "source": [
    "# 日本蜡烛图\n",
    "## 吞没形态\n",
    "### 看涨\n",
    "![](https://cdn.discordapp.com/attachments/876453115371614238/1089295548084920522/image.png)\n",
    "### 看跌\n",
    "![](https://cdn.discordapp.com/attachments/876453115371614238/1089295612589133907/image.png)"
   ]
  },
  {
   "cell_type": "code",
   "execution_count": null,
   "id": "680b47fa",
   "metadata": {},
   "outputs": [],
   "source": [
    "for i in range(2, df.shape[0]):\n",
    "    current = df.iloc[i, :]\n",
    "    prev = df.iloc[i-1, :]\n",
    "    prev_2 = df.iloc[i-2, :]\n",
    "    realbody = abs(current['Open'] - current['Close'])\n",
    "    candle_range = current['High'] - current['Low']\n",
    "    idx = df.index[i]\n",
    "    \n",
    "    df.loc[idx,'Bullish engulfing'] = current['High'] > prev['High'] and current['Low'] < prev['Low'] and realbody >= 0.8 * candle_range and current['Close'] > current['Open']\n",
    "    df.loc[idx,'Bearish engulfing'] = current['High'] > prev['High'] and current['Low'] < prev['Low'] and realbody >= 0.8 * candle_range and current['Close'] < current['Open']"
   ]
  },
  {
   "cell_type": "code",
   "execution_count": null,
   "id": "a79cc894",
   "metadata": {},
   "outputs": [],
   "source": [
    "df[df['Bullish engulfing'] == True]"
   ]
  },
  {
   "cell_type": "markdown",
   "id": "c80879ba",
   "metadata": {},
   "source": [
    "# 和谐交易 / 谐波形态\n",
    "![](https://cdn.discordapp.com/attachments/876453115371614238/1089294923481747606/image.png)"
   ]
  },
  {
   "cell_type": "code",
   "execution_count": null,
   "id": "66084a31",
   "metadata": {},
   "outputs": [],
   "source": [
    "import numpy as np\n",
    "import pandas as pd\n",
    "import ccxt\n",
    "import time\n",
    "import dateutil\n",
    "from datetime import datetime\n",
    "from functools import reduce\n",
    "from scipy.signal import argrelextrema\n",
    "from ta import add_all_ta_features\n",
    "import ta"
   ]
  },
  {
   "cell_type": "code",
   "execution_count": null,
   "id": "61b60401",
   "metadata": {},
   "outputs": [],
   "source": [
    "data = collect_data(timeframe='1h', limit=1000)\n",
    "data['Datetime'] = pd.to_datetime(data['Datetime'])"
   ]
  },
  {
   "cell_type": "code",
   "execution_count": null,
   "id": "f221b047",
   "metadata": {},
   "outputs": [],
   "source": [
    "df = data[data['Symbol'] == 'BTC/USDT'].tail(100)\n",
    "dt = df.Datetime\n",
    "\n",
    "df = df.set_index('Datetime')\n",
    "\n",
    "price = df.Close\n",
    "\n",
    "high = df.High\n",
    "\n",
    "low = df.Low\n",
    "\n",
    "max_idx = list(argrelextrema(price.values, np.greater, order = 5)[0])\n",
    "min_idx = list(argrelextrema(price.values, np.less, order = 5)[0])\n",
    "\n",
    "peak_1 = price.values[max_idx]\n",
    "peak_2 = price.values[min_idx]\n",
    "\n",
    "peaks_p = list(peak_1) + list(peak_2)\n",
    "\n",
    "peaks_idx = list(max_idx) + list(min_idx)\n",
    "\n",
    "peaks_idx_dt = np.array(dt.values[peaks_idx])\n",
    "\n",
    "peaks_p = np.array(list(peak_1) + list(peak_2))\n",
    "\n",
    "plt.plot(price, c='g')\n",
    "plt.xticks(rotation=45)\n",
    "plt.scatter(dt.values[peaks_idx], peaks_p, c='green')\n",
    "\n",
    "plt.show()"
   ]
  },
  {
   "cell_type": "code",
   "execution_count": null,
   "id": "fe8ad6f0",
   "metadata": {},
   "outputs": [],
   "source": [
    "df = data[data['Symbol'] == 'BTC/USDT']\n",
    "for i in range(10, len(price)):\n",
    "    print(i)\n",
    "    max_idx = list(argrelextrema(price.values[:i], np.greater, order = 20)[0])\n",
    "    min_idx = list(argrelextrema(price.values[:i], np.less, order = 20)[0])\n",
    "    peaks_idx = max_idx + min_idx + [len(price.values[:i]) - 1]\n",
    "    peaks_idx.sort()\n",
    "    \n",
    "    current_idx = peaks_idx[-5:]\n",
    "    current_pat = price.values[current_idx]\n",
    "    plt.plot(price.values[:i])\n",
    "    plt.plot(current_idx, current_pat, c='b')\n",
    "    plt.show()"
   ]
  },
  {
   "cell_type": "code",
   "execution_count": null,
   "id": "729aa3d8",
   "metadata": {},
   "outputs": [],
   "source": []
  },
  {
   "cell_type": "code",
   "execution_count": null,
   "id": "cf8c1354",
   "metadata": {},
   "outputs": [],
   "source": [
    "df = data[data['Symbol'] == 'BTC/USDT'].tail(50)\n",
    "dt = df.Datetime\n",
    "\n",
    "df = df.set_index('Datetime')\n",
    "\n",
    "price = df.Close\n",
    "\n",
    "high = df.High\n",
    "\n",
    "low = df.Low\n",
    "\n",
    "max_idx = list(argrelextrema(high.values, np.greater, order = 5)[0])\n",
    "min_idx = list(argrelextrema(low.values, np.less, order = 5)[0])\n",
    "\n",
    "peak_1 = high.values[max_idx]\n",
    "peak_2 = low.values[min_idx]\n",
    "\n",
    "peaks_p = list(peak_1) + list(peak_2)\n",
    "\n",
    "peaks_idx = list(max_idx) + list(min_idx)\n",
    "\n",
    "peaks_idx_dt = np.array(dt.values[peaks_idx])\n",
    "\n",
    "peaks_p = np.array(list(peak_1) + list(peak_2))\n",
    "\n",
    "final_df = pd.DataFrame({\"price\":peaks_p, \"datetime\":peaks_idx_dt})\n",
    "\n",
    "final_df = final_df.sort_values(by=['datetime'])\n",
    "\n",
    "peaks_idx_dt = final_df.datetime\n",
    "\n",
    "peaks_p = final_df.price\n"
   ]
  },
  {
   "cell_type": "code",
   "execution_count": null,
   "id": "d4dcecd6",
   "metadata": {},
   "outputs": [],
   "source": [
    "current_idx = peaks_idx_dt[-5:]\n",
    "current_idx"
   ]
  },
  {
   "cell_type": "code",
   "execution_count": null,
   "id": "6c4b277e",
   "metadata": {},
   "outputs": [],
   "source": [
    "current_idx = np.array(list(final_df.datetime[-5:]))\n",
    "\n",
    "current_pat = np.array(list(final_df.price[-5:]))"
   ]
  },
  {
   "cell_type": "code",
   "execution_count": null,
   "id": "c1123e8e",
   "metadata": {},
   "outputs": [],
   "source": [
    "plt.plot(high, c='g')\n",
    "plt.plot(low, c='r')\n",
    "plt.xticks(rotation=45)\n",
    "plt.scatter(dt.values[max_idx], peak_1, c='green')\n",
    "plt.scatter(dt.values[min_idx], peak_2, c='red')\n",
    "plt.plot(current_idx, current_pat, c='b')\n",
    "\n",
    "plt.show()"
   ]
  },
  {
   "cell_type": "code",
   "execution_count": null,
   "id": "98eb125b",
   "metadata": {},
   "outputs": [],
   "source": [
    "df = data[data['Symbol'] == 'BTC/USDT']\n",
    "for i in range(10, len(price)):\n",
    "    print(i)\n",
    "    max_idx = list(argrelextrema(price.values[:i], np.greater, order = 20)[0])\n",
    "    min_idx = list(argrelextrema(price.values[:i], np.less, order = 20)[0])\n",
    "    peaks_idx = max_idx + min_idx + [len(price.values[:i]) - 1]\n",
    "    peaks_idx.sort()\n",
    "    \n",
    "    current_idx = peaks_idx[-5:]\n",
    "    current_pat = price.values[current_idx]\n",
    "    plt.plot(price.values[:i])\n",
    "    plt.plot(current_idx, current_pat, c='b')\n",
    "    plt.show()"
   ]
  },
  {
   "cell_type": "code",
   "execution_count": null,
   "id": "8d5d207c",
   "metadata": {},
   "outputs": [],
   "source": [
    "df = data[data['Symbol'] == 'BTC/USDT']\n",
    "df"
   ]
  },
  {
   "cell_type": "code",
   "execution_count": null,
   "id": "2cf6e9e6",
   "metadata": {},
   "outputs": [],
   "source": [
    "dt = df.Datetime\n",
    "\n",
    "df = df.set_index('Datetime')\n",
    "\n",
    "price = df.Close\n",
    "\n",
    "high = df.High\n",
    "\n",
    "low = df.Low"
   ]
  },
  {
   "cell_type": "code",
   "execution_count": null,
   "id": "d98cf2ce",
   "metadata": {},
   "outputs": [],
   "source": [
    "for i in range(300, df.shape[0]):\n",
    "\n",
    "\n",
    "    max_idx = list(argrelextrema(high.values[:i], np.greater, order = 5)[0])\n",
    "    min_idx = list(argrelextrema(low.values[:i], np.less, order = 5)[0])\n",
    "\n",
    "    peak_1 = high.values[max_idx]\n",
    "    peak_2 = low.values[min_idx]\n",
    "\n",
    "    peaks_p = list(peak_1) + list(peak_2)\n",
    "\n",
    "    peaks_idx = list(max_idx) + list(min_idx)\n",
    "\n",
    "    peaks_idx_dt = np.array(dt.values[peaks_idx])\n",
    "\n",
    "    peaks_p = np.array(list(peak_1) + list(peak_2))\n",
    "\n",
    "    final_df = pd.DataFrame({\"price\":peaks_p, \"datetime\":peaks_idx_dt})\n",
    "\n",
    "    final_df = final_df.sort_values(by=['datetime'])\n",
    "\n",
    "    peaks_idx_dt = final_df.datetime\n",
    "\n",
    "    peaks_p = final_df.price\n",
    "    \n",
    "    current_idx = np.array(list(final_df.datetime[-5:]))\n",
    "\n",
    "    current_pat = np.array(list(final_df.price[-5:]))\n",
    "    \n",
    "    plt.plot(high[:i], c='g')\n",
    "    plt.plot(low[:i], c='r')\n",
    "    plt.xticks(rotation=45)\n",
    "    plt.scatter(dt.values[max_idx], peak_1, c='green')\n",
    "    plt.scatter(dt.values[min_idx], peak_2, c='red')\n",
    "    plt.plot(current_idx, current_pat, c='b')\n",
    "\n",
    "    plt.show()"
   ]
  },
  {
   "cell_type": "code",
   "execution_count": null,
   "id": "29ce51d2",
   "metadata": {},
   "outputs": [],
   "source": [
    "plot_pat(data, \"BTC/USDT\", order = 10)"
   ]
  },
  {
   "cell_type": "code",
   "execution_count": null,
   "id": "114a902e",
   "metadata": {},
   "outputs": [],
   "source": [
    "test = detect_harmonic(data, order=10)"
   ]
  },
  {
   "cell_type": "code",
   "execution_count": null,
   "id": "753d5215",
   "metadata": {},
   "outputs": [],
   "source": [
    "test"
   ]
  }
 ],
 "metadata": {
  "kernelspec": {
   "display_name": "Python 3 (ipykernel)",
   "language": "python",
   "name": "python3"
  },
  "language_info": {
   "codemirror_mode": {
    "name": "ipython",
    "version": 3
   },
   "file_extension": ".py",
   "mimetype": "text/x-python",
   "name": "python",
   "nbconvert_exporter": "python",
   "pygments_lexer": "ipython3",
   "version": "3.10.1"
  }
 },
 "nbformat": 4,
 "nbformat_minor": 5
}
